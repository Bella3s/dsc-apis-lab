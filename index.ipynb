{
 "cells": [
  {
   "cell_type": "markdown",
   "metadata": {},
   "source": [
    "# APIs - Cumulative Lab\n",
    "\n",
    "\n",
    "## Introduction \n",
    "\n",
    "We've seen how the Yelp API works and how to create basic visualizations using Folium. It's time to put those skills to work in order to create a working map! Taking things a step further, you'll also independently explore how to perform pagination in order to retrieve a full results set from the Yelp API.\n",
    "\n",
    "## Objectives\n",
    "\n",
    "You will be able to: \n",
    "\n",
    "* Practice using functions to organize your code\n",
    "* Use pagination to retrieve all results from an API query\n",
    "* Practice parsing data returned from an API query\n",
    "* Practice interpreting visualizations of a dataset\n",
    "* Create maps using Folium"
   ]
  },
  {
   "cell_type": "markdown",
   "metadata": {},
   "source": [
    "## Your Task: Query Yelp for All Businesses in a Category and Analyze the Results\n",
    "\n",
    "![restaurant counter with pizza](images/restaurant_counter.jpg)\n",
    "\n",
    "Photo by <a href=\"https://unsplash.com/@jordanmadrid?utm_source=unsplash&utm_medium=referral&utm_content=creditCopyText\">Jordan Madrid</a> on <a href=\"/s/photos/pizza-restaurant?utm_source=unsplash&utm_medium=referral&utm_content=creditCopyText\">Unsplash</a>"
   ]
  },
  {
   "cell_type": "markdown",
   "metadata": {},
   "source": [
    "### Overview\n",
    "\n",
    "You've now worked with some API calls, but we have yet to see how to retrieve a more complete dataset in a programmatic manner. In this lab, you will write a query of businesses on Yelp, then use *pagination* to retrieve all possible results for that query. Then you will create a summary of your findings, including a Folium map of the geographic locations of those businesses.\n",
    "\n",
    "### Technical Details\n",
    "\n",
    "Returning to the Yelp API, the [documentation](https://www.yelp.com/developers/documentation/v3/business_search) also provides us details regarding the **API limits**. These often include details about the number of requests a user is allowed to make within a specified time limit and the maximum number of results to be returned. In this case, we are told that any request has a **maximum of 50 results per request** and defaults to 20. Furthermore, any search will be limited to a **total of 1000 results**. To retrieve all 1000 of these results, we would have to page through the results piece by piece, retrieving 50 at a time. Processes such as these are often referred to as pagination.\n",
    "\n",
    "Also, be mindful of the **API** ***rate*** **limits**. You can only make **5000 requests per day** and are also can make requests too fast. Start prototyping small before running a loop that could be faulty. You can also use `time.sleep(n)` to add delays. For more details see https://www.yelp.com/developers/documentation/v3/rate_limiting.\n",
    "\n",
    "In this lab, you will define a search and then paginate over the results to retrieve all of the results. You'll then parse these responses as a list of dictionaries (for further exploration) and create a map using Folium to visualize the results geographically.\n",
    "\n",
    "### Requirements\n",
    "\n",
    "#### 1. Make the Initial Request\n",
    "\n",
    "Start by filling in your API key to make the initial request to the business search API. Investigate the structure of the response you get back and start figuring out how you will extract the relevant information.\n",
    "\n",
    "#### 2. Add Pagination\n",
    "\n",
    "Using loops and functions, collect the maximum number of results for your query from the API.\n",
    "\n",
    "#### 3. Perform Exploratory Analysis\n",
    "\n",
    "Interpret visualizations related to the price range, average rating, and number of reviews for all query results.\n",
    "\n",
    "#### 4. Create a Folium Map\n",
    "\n",
    "Using latitude and longitude data, plot the query results on an interactive map."
   ]
  },
  {
   "cell_type": "markdown",
   "metadata": {},
   "source": [
    "## 1. Make the Initial Request\n",
    "\n",
    "### Querying\n",
    "\n",
    "Start by making an initial request to the Yelp API. Your search must include at least 2 parameters: **term** and **location**. For example, you might search for pizza restaurants in NYC. The term and location is up to you but make the request below.\n",
    "\n",
    "Use the `requests` library ([documentation here](https://requests.readthedocs.io/en/master/user/quickstart/#make-a-request)).\n",
    "\n",
    "You'll also need an API key from Yelp. If you haven't done this already, go to the Yelp [Manage App page](https://www.yelp.com/developers/v3/manage_app) and create a new app (after making an account if you haven't already)."
   ]
  },
  {
   "cell_type": "code",
   "execution_count": 8,
   "metadata": {},
   "outputs": [],
   "source": [
    "# Replace None with appropriate code\n",
    "\n",
    "# Import the requests library\n",
    "import requests\n",
    "\n",
    "# Get this from the \"Manage App\" page. Make sure you set them\n",
    "# back to None before pushing this to GitHub, since otherwise\n",
    "# your credentials will be compromised\n",
    "api_key = None"
   ]
  },
  {
   "cell_type": "code",
   "execution_count": 122,
   "metadata": {},
   "outputs": [
    {
     "data": {
      "text/plain": [
       "200"
      ]
     },
     "execution_count": 122,
     "metadata": {},
     "output_type": "execute_result"
    }
   ],
   "source": [
    "# These can be whatever you want! But the solution uses \"pizza\"\n",
    "# and \"New York NY\" if you want to compare your work directly\n",
    "term = \"Indian\"\n",
    "location = \"San Francisco\"\n",
    "\n",
    "# Set up params for request\n",
    "url = \"https://api.yelp.com/v3/businesses/search\"\n",
    "headers = {\n",
    "    \"Authorization\": \"Bearer {}\".format(api_key)\n",
    "}\n",
    "url_params = {\n",
    "    \"term\": term.replace(\" \", \"+\"),\n",
    "    \"location\": location.replace(\" \", \"+\")\n",
    "}\n",
    "\n",
    "# Make the request using requests.get, passing in\n",
    "# url, headers=headers, and params=url_params\n",
    "response = requests.get(url, headers=headers, params=url_params)\n",
    "\n",
    "# Confirm we got a 200 response\n",
    "response.status_code"
   ]
  },
  {
   "cell_type": "code",
   "execution_count": 123,
   "metadata": {},
   "outputs": [
    {
     "data": {
      "text/plain": [
       "dict_keys(['businesses', 'total', 'region'])"
      ]
     },
     "execution_count": 123,
     "metadata": {},
     "output_type": "execute_result"
    }
   ],
   "source": [
    "# Run this cell without changes\n",
    "\n",
    "# Get the response body in JSON format\n",
    "response_json = response.json()\n",
    "# View the keys\n",
    "response_json.keys()"
   ]
  },
  {
   "cell_type": "markdown",
   "metadata": {},
   "source": [
    "### Extracting Data\n",
    "\n",
    "Now, retrieve the value associated with the `'businesses'` key, and inspect its contents."
   ]
  },
  {
   "cell_type": "code",
   "execution_count": 124,
   "metadata": {},
   "outputs": [
    {
     "data": {
      "text/plain": [
       "[{'id': 'GIl4gBFUknk9HJD3wvQI1Q',\n",
       "  'alias': 'keeva-indian-kitchen-san-francisco',\n",
       "  'name': 'Keeva Indian Kitchen',\n",
       "  'image_url': 'https://s3-media1.fl.yelpcdn.com/bphoto/OnXX7TBSmvEYvcz4cNWs3Q/o.jpg',\n",
       "  'is_closed': False,\n",
       "  'url': 'https://www.yelp.com/biz/keeva-indian-kitchen-san-francisco?adjust_creative=NUiu-11tvgCTUIYPSf6gpQ&utm_campaign=yelp_api_v3&utm_medium=api_v3_business_search&utm_source=NUiu-11tvgCTUIYPSf6gpQ',\n",
       "  'review_count': 717,\n",
       "  'categories': [{'alias': 'indpak', 'title': 'Indian'},\n",
       "   {'alias': 'vegetarian', 'title': 'Vegetarian'}],\n",
       "  'rating': 4.5,\n",
       "  'coordinates': {'latitude': 37.78295, 'longitude': -122.46899},\n",
       "  'transactions': ['delivery', 'pickup'],\n",
       "  'price': '$$',\n",
       "  'location': {'address1': '908 Clement St',\n",
       "   'address2': '',\n",
       "   'address3': None,\n",
       "   'city': 'San Francisco',\n",
       "   'zip_code': '94118',\n",
       "   'country': 'US',\n",
       "   'state': 'CA',\n",
       "   'display_address': ['908 Clement St', 'San Francisco, CA 94118']},\n",
       "  'phone': '+14157424010',\n",
       "  'display_phone': '(415) 742-4010',\n",
       "  'distance': 3762.3798457186303},\n",
       " {'id': 'vLWF4EPYGOg0F5T348-VyQ',\n",
       "  'alias': 'rose-indian-cuisine-san-francisco',\n",
       "  'name': 'Rose Indian Cuisine',\n",
       "  'image_url': 'https://s3-media2.fl.yelpcdn.com/bphoto/ZbuPN7atknqm9wMzTN64Jg/o.jpg',\n",
       "  'is_closed': False,\n",
       "  'url': 'https://www.yelp.com/biz/rose-indian-cuisine-san-francisco?adjust_creative=NUiu-11tvgCTUIYPSf6gpQ&utm_campaign=yelp_api_v3&utm_medium=api_v3_business_search&utm_source=NUiu-11tvgCTUIYPSf6gpQ',\n",
       "  'review_count': 464,\n",
       "  'categories': [{'alias': 'indpak', 'title': 'Indian'},\n",
       "   {'alias': 'himalayan', 'title': 'Himalayan/Nepalese'}],\n",
       "  'rating': 4.5,\n",
       "  'coordinates': {'latitude': 37.762469, 'longitude': -122.465914},\n",
       "  'transactions': ['delivery', 'pickup'],\n",
       "  'price': '$$',\n",
       "  'location': {'address1': '1386 9th Ave',\n",
       "   'address2': None,\n",
       "   'address3': '',\n",
       "   'city': 'San Francisco',\n",
       "   'zip_code': '94122',\n",
       "   'country': 'US',\n",
       "   'state': 'CA',\n",
       "   'display_address': ['1386 9th Ave', 'San Francisco, CA 94122']},\n",
       "  'phone': '+14152135654',\n",
       "  'display_phone': '(415) 213-5654',\n",
       "  'distance': 2599.6511328180677}]"
      ]
     },
     "execution_count": 124,
     "metadata": {},
     "output_type": "execute_result"
    }
   ],
   "source": [
    "# Replace None with appropriate code\n",
    "\n",
    "# Retrieve the value from response_json\n",
    "businesses = response_json['businesses']\n",
    "\n",
    "# View the first 2 records\n",
    "businesses[:2]"
   ]
  },
  {
   "cell_type": "markdown",
   "metadata": {},
   "source": [
    "### Preparing Data\n",
    "\n",
    "Write a function `prepare_data` that takes in a list of dictionaries like `businesses` and returns a copy that has been prepared for analysis:\n",
    "\n",
    "1. The `coordinates` key-value pair has been converted into two separate key-value pairs, `latitude` and `longitude`\n",
    "2. All other key-value pairs except for `name`, `review_count`, `rating`, and `price` have been dropped\n",
    "3. All dictionaries missing one of the relevant keys or containing null values have been dropped\n",
    "\n",
    "In other words, the final keys for each dictionary should be `name`, `review_count`, `rating`, `price`, `latitude`, and `longitude`.\n",
    "\n",
    "Complete the function in the cell below:"
   ]
  },
  {
   "cell_type": "markdown",
   "metadata": {},
   "source": [
    "# Notes to Self\n",
    "\n",
    "So, I completed all the work in the below cell, just to realize FlatIron had actually set it up to be much easier than I was making it. Oops.  I'm going to leave all my work because it was quite a bit of effort and I don't want to delete it, but am changing the format to Markdown to not run it.  I'll go back to original documentation to reset and then create function through their steps as a good exercise."
   ]
  },
  {
   "cell_type": "markdown",
   "metadata": {},
   "source": [
    "\"\"\"\n",
    "Takes in a dictionary, and adds two key:value pairs with keys 'latitude' and 'longitude'. Values pulled from data in the dictionary passed through.\n",
    "\"\"\"\n",
    "\n",
    "def coordinates_add(entry):\n",
    "    entry['latitude'] = entry['coordinates']['latitude']\n",
    "    entry['longitude'] = entry['coordinates']['longitude']\n",
    "\n",
    "\"\"\"\n",
    "Takes in a dictionary and a list of key names. Deletes any key:value pairs for any key names not in the list.\n",
    "\"\"\"\n",
    "\n",
    "def only_keys_want(entry, keep_list):\n",
    "    for key in list(entry.keys()):    \n",
    "        if key not in keep_list:\n",
    "            del entry[key]\n",
    "\n",
    "\"\"\"\n",
    "Takes in a list of dictionaries and a list of key names. The function first takes each dictionary and removes any key value pairs where the value is null. Then, if the resulting dictionary does not have all the keys we need in our data, the entry is removed from the data set.\n",
    "\"\"\"\n",
    "\n",
    "def remove_invalid_entries(data, keep_list):\n",
    "    counter = 0\n",
    "    for entry in data:\n",
    "        filtered = {k:v for k,v in entry.items() if v != None}\n",
    "        test_data[counter] = filtered\n",
    "        counter += 1\n",
    "        \n",
    "    for entry in data:\n",
    "        if list(entry.keys()) != keep_list:\n",
    "            data.remove(entry)\n",
    "\n",
    "\"\"\"\n",
    "Function accomplishes three main tasks:\n",
    "\n",
    "1. Takes the information from the 'coordinates' key-value pair and creates two new key-value pairs, 'latitude' and 'longitude'.\n",
    "2. Filters the data so the only key-value pairs remaining are 'name', 'review_count', 'rating', 'price', 'latitude', and 'longitude'.\n",
    "3. Drops any dictionaries that have null values and/or are missing any of the relevant keys\n",
    "\"\"\"\n",
    "\n",
    "def prepare_data(data_list):\n",
    "    keep_list = ['name', 'review_count', 'rating', 'price', 'latitude', 'longitude']\n",
    "    for business in data_list:\n",
    "        coordinates_add(business)\n",
    "        only_keys_want(business, keep_list)\n",
    "    remove_invalid_entries(data_list, keep_list)"
   ]
  },
  {
   "cell_type": "code",
   "execution_count": 125,
   "metadata": {},
   "outputs": [
    {
     "data": {
      "text/plain": [
       "[{'name': 'Keeva Indian Kitchen',\n",
       "  'review_count': 717,\n",
       "  'rating': 4.5,\n",
       "  'price': '$$',\n",
       "  'latitude': 37.78295,\n",
       "  'longitude': -122.46899},\n",
       " {'name': 'Rose Indian Cuisine',\n",
       "  'review_count': 464,\n",
       "  'rating': 4.5,\n",
       "  'price': '$$',\n",
       "  'latitude': 37.762469,\n",
       "  'longitude': -122.465914},\n",
       " {'name': 'Ocean Indian Cuisine',\n",
       "  'review_count': 338,\n",
       "  'rating': 5.0,\n",
       "  'price': '$$',\n",
       "  'latitude': 37.7799,\n",
       "  'longitude': -122.48522},\n",
       " {'name': 'Om Indian Cuisine',\n",
       "  'review_count': 438,\n",
       "  'rating': 4.5,\n",
       "  'price': '$$',\n",
       "  'latitude': 37.76986,\n",
       "  'longitude': -122.44972},\n",
       " {'name': 'Chaska Restaurant',\n",
       "  'review_count': 57,\n",
       "  'rating': 5.0,\n",
       "  'price': '$$',\n",
       "  'latitude': 37.78083,\n",
       "  'longitude': -122.47442}]"
      ]
     },
     "execution_count": 125,
     "metadata": {},
     "output_type": "execute_result"
    }
   ],
   "source": [
    "# Replace None with appropriate code\n",
    "\"\"\"\n",
    "This function takes in a list of dictionaries and prepares it for analysis\n",
    "\"\"\"\n",
    "def prepare_data(data_list):\n",
    "    \n",
    "    # Make a new list to hold results\n",
    "    results = []\n",
    "    \n",
    "    for business_data in data_list:\n",
    "    \n",
    "        # Make a new dictionary to hold prepared data for this business\n",
    "        prepared_data = {}\n",
    "        \n",
    "        # Extract name, review_count, rating, and price key-value pairs\n",
    "        # from business_data and add to prepared_data\n",
    "        # If a key is not present in business_data, add it to prepared_data\n",
    "        # with an associated value of None\n",
    "        keys_want = ['name', 'review_count', 'rating', 'price']\n",
    "        for key in keys_want:\n",
    "            if key in business_data.keys():\n",
    "                prepared_data[key] = business_data[key]\n",
    "            else:\n",
    "                prepared_data[key] = None\n",
    "        \n",
    "        # Parse and add latitude and longitude columns\n",
    "        prepared_data['latitude'] = business_data['coordinates']['latitude']\n",
    "        prepared_data['longitude'] = business_data['coordinates']['longitude']\n",
    "        \n",
    "        # Add to list if all values are present\n",
    "        if all(prepared_data.values()):\n",
    "            results.append(prepared_data)\n",
    "    \n",
    "    return results\n",
    "    \n",
    "# Test out function\n",
    "prepared_businesses = prepare_data(businesses)\n",
    "prepared_businesses[:5]"
   ]
  },
  {
   "cell_type": "markdown",
   "metadata": {},
   "source": [
    "Check that your function created the correct keys:"
   ]
  },
  {
   "cell_type": "code",
   "execution_count": 126,
   "metadata": {},
   "outputs": [],
   "source": [
    "# Run this cell without changes\n",
    "\n",
    "assert sorted(list(prepared_businesses[0].keys())) == ['latitude', 'longitude', 'name', 'price', 'rating', 'review_count']"
   ]
  },
  {
   "cell_type": "markdown",
   "metadata": {},
   "source": [
    "The following code will differ depending on your query, but we expect there to be 20 businesses in the original list, and potentially fewer in the prepared list (if any of them were missing data):"
   ]
  },
  {
   "cell_type": "code",
   "execution_count": 127,
   "metadata": {},
   "outputs": [
    {
     "name": "stdout",
     "output_type": "stream",
     "text": [
      "Original: 20\n",
      "Prepared: 17\n"
     ]
    }
   ],
   "source": [
    "# Run this cell without changes\n",
    "print(\"Original:\", len(businesses))\n",
    "print(\"Prepared:\", len(prepared_businesses))"
   ]
  },
  {
   "cell_type": "markdown",
   "metadata": {},
   "source": [
    "Great! We will reuse this function once we have retrieved the full dataset."
   ]
  },
  {
   "cell_type": "markdown",
   "metadata": {},
   "source": [
    "## 2. Add Pagination\n",
    "\n",
    "Now that you are able to extract information from one page of the response, let's figure out how to request as many pages as possible.\n",
    "\n",
    "### Determining the Total\n",
    "\n",
    "Depending on the number of total results for your query, you will either retrieve all of the results, or just the first 1000 (if there are more than 1000 total).\n",
    "\n",
    "We can find the total number of results using the `\"total\"` key:"
   ]
  },
  {
   "cell_type": "code",
   "execution_count": 128,
   "metadata": {},
   "outputs": [
    {
     "data": {
      "text/plain": [
       "292"
      ]
     },
     "execution_count": 128,
     "metadata": {},
     "output_type": "execute_result"
    }
   ],
   "source": [
    "# Run this cell without changes\n",
    "response_json[\"total\"]"
   ]
  },
  {
   "cell_type": "markdown",
   "metadata": {},
   "source": [
    "(This is specific to the implementation of the Yelp API. Some APIs will just tell you that there are more pages, or will tell you the number of pages total, rather than the total number of results. If you're not sure, always check the documentation.)\n",
    "\n",
    "In the cell below, assign the variable `total` to either the value shown above (if it is less than 1000), or 1000."
   ]
  },
  {
   "cell_type": "code",
   "execution_count": 129,
   "metadata": {},
   "outputs": [],
   "source": [
    "# Replace None with appropriate code\n",
    "total = 292"
   ]
  },
  {
   "cell_type": "markdown",
   "metadata": {},
   "source": [
    "### Calculating the Offsets\n",
    "\n",
    "The documentation states in the parameters section:\n",
    "\n",
    "> **Name**: `limit`, **Type:** int, **Description:** Optional. Number of business results to return. By default, it will return 20. Maximum is 50.\n",
    "\n",
    "> **Name**: `offset`, **Type:** int, **Description:** Optional. Offset the list of returned business results by this amount.\n",
    "\n",
    "So, to get the most results with the fewest API calls we want to set a limit of 50 every time. If, say, we wanted to get 210 total results, that would mean:\n",
    "\n",
    "1. Offset of `0` (first 50 records)\n",
    "2. Offset of `50` (second 50 records)\n",
    "3. Offset of `100` (third 50 records)\n",
    "4. Offset of `150` (fourth 50 records)\n",
    "5. Offset of `200` (final 10 records)\n",
    "\n",
    "In the cell below, create a function `get_offsets` that takes in a total and returns a list of offsets for that total. You can assume that there is a limit of 50 every time.\n",
    "\n",
    "*Hint: you can use `range` ([documentation here](https://docs.python.org/3.3/library/stdtypes.html?highlight=range#range)) to do this in one line of code. Just make the returned result is a list.*"
   ]
  },
  {
   "cell_type": "code",
   "execution_count": 130,
   "metadata": {},
   "outputs": [],
   "source": [
    "# Replace None with appropriate code\n",
    "def get_offsets(total):\n",
    "    \"\"\"\n",
    "    Get a list of offsets needed to get all pages\n",
    "    of data up until the total\n",
    "    \"\"\"\n",
    "    return list(range(0,total,50))"
   ]
  },
  {
   "cell_type": "markdown",
   "metadata": {},
   "source": [
    "Check that your function works below:"
   ]
  },
  {
   "cell_type": "code",
   "execution_count": 131,
   "metadata": {},
   "outputs": [],
   "source": [
    "# Run this cell without changes\n",
    "\n",
    "assert get_offsets(200) == [0, 50, 100, 150]\n",
    "assert get_offsets(210) == [0, 50, 100, 150, 200]"
   ]
  },
  {
   "cell_type": "markdown",
   "metadata": {},
   "source": [
    "### Putting It All Together\n",
    "\n",
    "Recall that the following variable has already been declared for you:"
   ]
  },
  {
   "cell_type": "code",
   "execution_count": 132,
   "metadata": {},
   "outputs": [
    {
     "data": {
      "text/plain": [
       "{'term': 'Indian', 'location': 'San+Francisco'}"
      ]
     },
     "execution_count": 132,
     "metadata": {},
     "output_type": "execute_result"
    }
   ],
   "source": [
    "# Run this cell without changes\n",
    "url_params"
   ]
  },
  {
   "cell_type": "markdown",
   "metadata": {},
   "source": [
    "We'll go ahead and also specify that the limit should be 50 every time:"
   ]
  },
  {
   "cell_type": "code",
   "execution_count": 133,
   "metadata": {},
   "outputs": [],
   "source": [
    "# Run this cell without changes\n",
    "url_params[\"limit\"] = 50"
   ]
  },
  {
   "cell_type": "markdown",
   "metadata": {},
   "source": [
    "In order to modify the offset, you'll need to add it to `url_params` with the key `\"offset\"` and whatever value is needed.\n",
    "\n",
    "In the cell below, write code that:\n",
    "\n",
    "* Creates an empty list for the full prepared dataset\n",
    "* Loops over all of the offsets from `get_offsets` and makes an API call each time with the specified offset\n",
    "* Calls `prepare_data` to get a cleaned version of the result of each API call\n",
    "* Extends the full prepared dataset list with each query's prepared dataset"
   ]
  },
  {
   "cell_type": "code",
   "execution_count": 134,
   "metadata": {},
   "outputs": [
    {
     "data": {
      "text/plain": [
       "216"
      ]
     },
     "execution_count": 134,
     "metadata": {},
     "output_type": "execute_result"
    }
   ],
   "source": [
    "# Replace None with appropriate code\n",
    "\n",
    "# Create an empty list for the full prepared dataset\n",
    "full_dataset = []\n",
    "\n",
    "for offset in get_offsets(total):\n",
    "    # Add or update the \"offset\" key-value pair in url_params\n",
    "    url_params['offset'] = offset\n",
    "    \n",
    "    # Make the query and get the response\n",
    "    response = requests.get(url, headers=headers, params=url_params)\n",
    "    \n",
    "    # Get the response body in JSON format\n",
    "    response_json = response.json()\n",
    "    \n",
    "    # Get the list of businesses from the response_json\n",
    "    businesses = response_json['businesses']\n",
    "    \n",
    "    # Call the prepare_data function to get a list of processed data\n",
    "    prepared_businesses = prepare_data(businesses)\n",
    "    \n",
    "    # Extend full_dataset with this list (don't append, or you'll get\n",
    "    # a list of lists instead of a flat list)\n",
    "    full_dataset.extend(prepared_businesses)\n",
    "\n",
    "# Check the length of the full dataset. It will be up to `total`,\n",
    "# potentially less if there were missing values\n",
    "len(full_dataset)"
   ]
  },
  {
   "cell_type": "markdown",
   "metadata": {},
   "source": [
    "This code may take up to a few minutes to run.\n",
    "\n",
    "If you get an error trying to get the response body in JSON format, try adding `time.sleep(1)` right after the `requests.get` line, so your code will sleep for 1 second between each API call."
   ]
  },
  {
   "cell_type": "markdown",
   "metadata": {},
   "source": [
    "## 3. Perform Exploratory Analysis\n",
    "\n",
    "Take the businesses from the previous question and do an initial exploratory analysis. We have provided some plots for you to interpret:"
   ]
  },
  {
   "cell_type": "code",
   "execution_count": 135,
   "metadata": {},
   "outputs": [
    {
     "data": {
      "image/png": "[encoded data removed]",
      "text/plain": [
       "<Figure size 1152x360 with 3 Axes>"
      ]
     },
     "metadata": {
      "needs_background": "light"
     },
     "output_type": "display_data"
    }
   ],
   "source": [
    "# Run this cell without changes\n",
    "from collections import Counter\n",
    "import matplotlib.pyplot as plt\n",
    "%matplotlib inline\n",
    "\n",
    "fig, (ax1, ax2, ax3) = plt.subplots(ncols=3, figsize=(16, 5))\n",
    "\n",
    "# Plot distribution of number of reviews\n",
    "all_review_counts = [x[\"review_count\"] for x in full_dataset]\n",
    "ax1.hist(all_review_counts)\n",
    "ax1.set_title(\"Review Count Distribution\")\n",
    "ax1.set_xlabel(\"Number of Reviews\")\n",
    "ax1.set_ylabel(\"Number of Businesses\")\n",
    "\n",
    "# Plot rating distribution\n",
    "all_ratings = [x[\"rating\"] for x in full_dataset]\n",
    "rating_counter = Counter(all_ratings)\n",
    "rating_keys = sorted(rating_counter.keys())\n",
    "ax2.bar(rating_keys, [rating_counter[key] for key in rating_keys])\n",
    "ax2.set_title(\"Rating Distribution\")\n",
    "ax2.set_xlabel(\"Rating\")\n",
    "ax2.set_ylabel(\"Number of Businesses\")\n",
    "\n",
    "# Plot price distribution\n",
    "all_prices = [x[\"price\"].replace(\"$\", r\"\\$\") for x in full_dataset]\n",
    "price_counter = Counter(all_prices)\n",
    "price_keys = sorted(price_counter.keys())\n",
    "ax3.bar(price_keys, [price_counter[key] for key in price_keys])\n",
    "ax3.set_title(\"Price Distribution\")\n",
    "ax3.set_xlabel(\"Price Category\")\n",
    "ax3.set_ylabel(\"Number of Businesses\");"
   ]
  },
  {
   "cell_type": "markdown",
   "metadata": {},
   "source": [
    "Describe the distributions displayed above and interpret them in the context of your query. (Your answer may differ from the solution branch depending on your query.)"
   ]
  },
  {
   "cell_type": "code",
   "execution_count": null,
   "metadata": {},
   "outputs": [],
   "source": [
    "# Replace None with appropriate text\n",
    "\"\"\"\n",
    "In the query, we pulled information based on a term of 'Indian' for Indian style of food, and a location key of 'San \n",
    "Francisco' to pull from establishments in and around that city. Unsuprisingly, a majority of the 216 filtered and cleaned \n",
    "results have zero to 500 reviews.  Only ten or fewer establishments have over 1000 (up to almost 3000) reviews each. \n",
    "Furthermore, on trend with the ideology that people are more likely to report positive reviews than not, our the distribution \n",
    "of ratings for our reported establishments have a mode at 4 out of 5.  It is slightly supprising not to see a bump at the 0 \n",
    "or 1 rating as the negative extreme is generally the other end of what is reported on sites like Yelp. Lastly, we see a \n",
    "price distribution with catagories of one to four.  A vast majority of them have a rating of two dollar signs which again is\n",
    "not entirely supprising. From our list, we can see that most of the Indian style food establishments are not higher end.\n",
    "\"\"\""
   ]
  },
  {
   "cell_type": "markdown",
   "metadata": {},
   "source": [
    "In the cell below, we also plot the rating distributions by price. In this setup, a price of one dollar sign is \"lower price\" and everything else is \"higher price\"."
   ]
  },
  {
   "cell_type": "code",
   "execution_count": 136,
   "metadata": {},
   "outputs": [
    {
     "data": {
      "image/png": "[encoded data removed]",
      "text/plain": [
       "<Figure size 432x288 with 1 Axes>"
      ]
     },
     "metadata": {
      "needs_background": "light"
     },
     "output_type": "display_data"
    }
   ],
   "source": [
    "# Run this cell without changes\n",
    "\n",
    "higher_price = []\n",
    "lower_price = []\n",
    "for row in full_dataset:\n",
    "    if row[\"price\"] == \"$\":\n",
    "        lower_price.append(row[\"rating\"])\n",
    "    else:\n",
    "        higher_price.append(row[\"rating\"])\n",
    "        \n",
    "fig, ax = plt.subplots()\n",
    "\n",
    "ax.hist([higher_price, lower_price], label=[\"higher price\", \"lower price\"], density=True)\n",
    "\n",
    "ax.legend();"
   ]
  },
  {
   "cell_type": "markdown",
   "metadata": {},
   "source": [
    "Is a higher price associated with a higher rating? (No need for any additional math/statistics, just interpret what you see in the plot.)"
   ]
  },
  {
   "cell_type": "code",
   "execution_count": null,
   "metadata": {},
   "outputs": [],
   "source": [
    "# Replace None with appropriate text\n",
    "\"\"\"\n",
    "Based on the data above, a higher price has a weak association with having a higher rating. The majority of 'higher price' \n",
    "establishments have a rating of 4 or 4.5, and the 'lower price' establishments are mostly in the 3.5 to 4.5 range. While the\n",
    "range for 'lower price' places is slightly wider -- and they have a chunk of reviews solidly in the 2.5 range where as the \n",
    "'higher price' place only have a few in the 2.0 and 3.0 review responses collectively -- these differences are marginal and\n",
    "thus only enough to prove a weak association, if any, between price and rating. In general, pleople enjoyed the \n",
    "establishments!\n",
    "\"\"\""
   ]
  },
  {
   "cell_type": "markdown",
   "metadata": {},
   "source": [
    "Finally, let's look at ratings vs. review counts:"
   ]
  },
  {
   "cell_type": "code",
   "execution_count": 137,
   "metadata": {},
   "outputs": [
    {
     "data": {
      "image/png": "[encoded data removed]",
      "text/plain": [
       "<Figure size 1152x360 with 1 Axes>"
      ]
     },
     "metadata": {
      "needs_background": "light"
     },
     "output_type": "display_data"
    }
   ],
   "source": [
    "# Run this cell without changes\n",
    "fig, ax = plt.subplots(figsize=(16,5))\n",
    "\n",
    "ax.scatter(all_review_counts, all_ratings, alpha=0.2)\n",
    "ax.set_xlabel(\"Number of Reviews\")\n",
    "ax.set_ylabel(\"Rating\")\n",
    "# \"zoom in\" to a subset of review counts\n",
    "ax.set_xlim(left=0, right=1000);"
   ]
  },
  {
   "cell_type": "markdown",
   "metadata": {},
   "source": [
    "Is a higher number of reviews associated with a higher rating?"
   ]
  },
  {
   "cell_type": "code",
   "execution_count": null,
   "metadata": {},
   "outputs": [],
   "source": [
    "# Replace None with appropriate text\n",
    "\"\"\"\n",
    "As we can see above, there is no substantial correlation between the number of reviews and rating.  Ratings of 3.5, 4.0, \n",
    "and 4.5 all have data points along the Number of Reviews which ranges from zero to 1000.  We can see from the above graph \n",
    "that there are very few reviews overall with ratings between 2.0 - 3.0, and very few with ratings of 5.0.  Furthermore,\n",
    "the number of reviews for rating of 5.0 and 3.0 range from about 100 to 400; this similar range shows the lack of correlation\n",
    "between these two data points.\n",
    "\"\"\""
   ]
  },
  {
   "cell_type": "markdown",
   "metadata": {},
   "source": [
    "## 4. Create a Folium Map\n",
    "\n",
    "Make a map using Folium of the businesses you retrieved. Be sure to also add popups to the markers giving some basic information such as name, rating and price.\n",
    "\n",
    "You can center the map around the latitude and longitude of the first item in `full_dataset`."
   ]
  },
  {
   "cell_type": "code",
   "execution_count": 138,
   "metadata": {},
   "outputs": [
    {
     "data": {
      "text/html": [
       "<div style=\"width:100%;\"><div style=\"position:relative;width:100%;height:0;padding-bottom:60%;\"><span style=\"color:#565656\">Make this Notebook Trusted to load map: File -> Trust Notebook</span><iframe src=\"about:blank\" style=\"position:absolute;width:100%;height:100%;left:0;top:0;border:none !important;\" data-html=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 onload=\"this.contentDocument.open();this.contentDocument.write(atob(this.getAttribute('data-html')));this.contentDocument.close();\" allowfullscreen webkitallowfullscreen mozallowfullscreen></iframe></div></div>"
      ],
      "text/plain": [
       "<folium.folium.Map at 0x1a23ae7aee0>"
      ]
     },
     "execution_count": 138,
     "metadata": {},
     "output_type": "execute_result"
    }
   ],
   "source": [
    "# Replace None with appropriate code\n",
    "\n",
    "# Import the library\n",
    "import folium\n",
    "\n",
    "# Set up center latitude and longitude\n",
    "center_lat = full_dataset[0]['latitude']\n",
    "center_long = full_dataset[0]['longitude']\n",
    "\n",
    "# Initialize map with center lat and long\n",
    "yelp_map = folium.Map([center_lat,center_long])\n",
    "\n",
    "# Adjust this limit to see more or fewer businesses\n",
    "limit=100\n",
    "\n",
    "for business in full_dataset[:limit]:\n",
    "    # Extract information about business\n",
    "    lat = business['latitude']\n",
    "    long = business['longitude']\n",
    "    name = business['name']\n",
    "    rating = business['rating']\n",
    "    price = business['price']\n",
    "    details = \"{}\\nPrice: {} Rating:{}\".format(name,price,rating)\n",
    "    \n",
    "    # Create popup with relevant details\n",
    "    popup = folium.Popup(details, parse_html=True)\n",
    "    \n",
    "    # Create marker with relevant lat/long and popup\n",
    "    marker = folium.Marker(location=[lat,long], popup=popup)\n",
    "    \n",
    "    marker.add_to(yelp_map)\n",
    "    \n",
    "yelp_map"
   ]
  },
  {
   "cell_type": "markdown",
   "metadata": {},
   "source": [
    "## Summary\n",
    "\n",
    "Nice work! In this lab, you've made multiple API calls to Yelp in order to paginate through a results set, performing some basic exploratory analysis and then creating a nice interactive map to display the results using Folium! Well done!"
   ]
  }
 ],
 "metadata": {
  "kernelspec": {
   "display_name": "Python 3",
   "language": "python",
   "name": "python3"
  },
  "language_info": {
   "codemirror_mode": {
    "name": "ipython",
    "version": 3
   },
   "file_extension": ".py",
   "mimetype": "text/x-python",
   "name": "python",
   "nbconvert_exporter": "python",
   "pygments_lexer": "ipython3",
   "version": "3.8.5"
  },
  "toc": {
   "base_numbering": 1,
   "nav_menu": {},
   "number_sections": true,
   "sideBar": true,
   "skip_h1_title": false,
   "title_cell": "Table of Contents",
   "title_sidebar": "Contents",
   "toc_cell": false,
   "toc_position": {},
   "toc_section_display": true,
   "toc_window_display": false
  }
 },
 "nbformat": 4,
 "nbformat_minor": 2
}
